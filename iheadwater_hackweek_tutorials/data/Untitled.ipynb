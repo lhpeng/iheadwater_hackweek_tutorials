{
 "cells": [
  {
   "cell_type": "code",
   "execution_count": 14,
   "id": "13652827-b826-4309-921e-99887626ba1d",
   "metadata": {
    "tags": []
   },
   "outputs": [],
   "source": [
    "#打开txt文件\n",
    "file = open('./2181200_Q_Day.Cmd.txt','r')"
   ]
  },
  {
   "cell_type": "code",
   "execution_count": 16,
   "id": "4c04d137-1648-40b4-9e81-12f1da5f2cd2",
   "metadata": {
    "tags": []
   },
   "outputs": [],
   "source": [
    "file = open('./2181200_Q_Day.Cmd.txt','r')"
   ]
  },
  {
   "cell_type": "code",
   "execution_count": 18,
   "id": "26d0227e-c9d7-41c9-9482-8943eec2de38",
   "metadata": {
    "tags": []
   },
   "outputs": [],
   "source": [
    "file.close()"
   ]
  },
  {
   "cell_type": "code",
   "execution_count": 20,
   "id": "73229d26-461e-4922-a6ff-11f42cfd534c",
   "metadata": {
    "tags": []
   },
   "outputs": [
    {
     "ename": "ValueError",
     "evalue": "I/O operation on closed file.",
     "output_type": "error",
     "traceback": [
      "\u001b[0;31m---------------------------------------------------------------------------\u001b[0m",
      "\u001b[0;31mValueError\u001b[0m                                Traceback (most recent call last)",
      "Input \u001b[0;32mIn [20]\u001b[0m, in \u001b[0;36m<cell line: 1>\u001b[0;34m()\u001b[0m\n\u001b[0;32m----> 1\u001b[0m \u001b[43mfile\u001b[49m\u001b[38;5;241;43m.\u001b[39;49m\u001b[43mread\u001b[49m\u001b[43m(\u001b[49m\u001b[43m)\u001b[49m\n",
      "\u001b[0;31mValueError\u001b[0m: I/O operation on closed file."
     ]
    }
   ],
   "source": [
    "file.read()"
   ]
  },
  {
   "cell_type": "code",
   "execution_count": 22,
   "id": "8afedbb9-2206-48bb-b9fa-b368482072cf",
   "metadata": {
    "tags": []
   },
   "outputs": [],
   "source": [
    "with open('./2181200_Q_Day.Cmd.txt','r') as work_data:\n",
    "    file = work_data.read()"
   ]
  },
  {
   "cell_type": "code",
   "execution_count": 24,
   "id": "e6e6b027-63ff-47c7-8228-80ec62094f2c",
   "metadata": {
    "tags": []
   },
   "outputs": [],
   "source": [
    "import shutil"
   ]
  },
  {
   "cell_type": "code",
   "execution_count": 26,
   "id": "a5b78894-887f-4979-91a5-83db294f4770",
   "metadata": {
    "tags": []
   },
   "outputs": [
    {
     "data": {
      "text/plain": [
       "'./2181200_Q_Day.Cmd.modified.txt'"
      ]
     },
     "execution_count": 26,
     "metadata": {},
     "output_type": "execute_result"
    }
   ],
   "source": [
    "shutil.copy(\"./2181200_Q_Day.Cmd.txt\",\"./2181200_Q_Day.Cmd.modified.txt\")"
   ]
  },
  {
   "cell_type": "code",
   "execution_count": 30,
   "id": "00c23945-8cae-4711-a1b7-7ea75e269421",
   "metadata": {
    "tags": []
   },
   "outputs": [],
   "source": [
    "with open(\"./2181200_Q_Day.Cmd.modified.txt\",\"a+\") as work_data:\n",
    "    file = work_data.write(\"\\nAbove is the full data\")"
   ]
  },
  {
   "cell_type": "code",
   "execution_count": 37,
   "id": "f4fb34f5-2bfa-432f-bc01-7b9f6e8083bf",
   "metadata": {
    "tags": []
   },
   "outputs": [],
   "source": [
    "import pandas as pd"
   ]
  },
  {
   "cell_type": "code",
   "execution_count": 49,
   "id": "4a22f088-180e-483c-8543-6b45de81f39e",
   "metadata": {
    "tags": []
   },
   "outputs": [
    {
     "data": {
      "text/html": [
       "<div>\n",
       "<style scoped>\n",
       "    .dataframe tbody tr th:only-of-type {\n",
       "        vertical-align: middle;\n",
       "    }\n",
       "\n",
       "    .dataframe tbody tr th {\n",
       "        vertical-align: top;\n",
       "    }\n",
       "\n",
       "    .dataframe thead th {\n",
       "        text-align: right;\n",
       "    }\n",
       "</style>\n",
       "<table border=\"1\" class=\"dataframe\">\n",
       "  <thead>\n",
       "    <tr style=\"text-align: right;\">\n",
       "      <th></th>\n",
       "      <th>站名</th>\n",
       "      <th>年-月-日</th>\n",
       "      <th>起</th>\n",
       "      <th>止</th>\n",
       "      <th>降雨量（mm)</th>\n",
       "    </tr>\n",
       "  </thead>\n",
       "  <tbody>\n",
       "    <tr>\n",
       "      <th>0</th>\n",
       "      <td>北洛河大荔站</td>\n",
       "      <td>1990/6/7</td>\n",
       "      <td>1:00</td>\n",
       "      <td>2:00</td>\n",
       "      <td>0.1</td>\n",
       "    </tr>\n",
       "    <tr>\n",
       "      <th>1</th>\n",
       "      <td>北洛河大荔站</td>\n",
       "      <td>1990/6/7</td>\n",
       "      <td>2:00</td>\n",
       "      <td>8:00</td>\n",
       "      <td>8.6</td>\n",
       "    </tr>\n",
       "    <tr>\n",
       "      <th>2</th>\n",
       "      <td>北洛河大荔站</td>\n",
       "      <td>1990/6/7</td>\n",
       "      <td>8:00</td>\n",
       "      <td>11:00</td>\n",
       "      <td>0.6</td>\n",
       "    </tr>\n",
       "    <tr>\n",
       "      <th>3</th>\n",
       "      <td>北洛河大荔站</td>\n",
       "      <td>1990/6/10</td>\n",
       "      <td>19:00</td>\n",
       "      <td>20:00</td>\n",
       "      <td>0.1</td>\n",
       "    </tr>\n",
       "    <tr>\n",
       "      <th>4</th>\n",
       "      <td>北洛河大荔站</td>\n",
       "      <td>1990/6/10</td>\n",
       "      <td>20:00</td>\n",
       "      <td>1:00</td>\n",
       "      <td>2.6</td>\n",
       "    </tr>\n",
       "    <tr>\n",
       "      <th>5</th>\n",
       "      <td>北洛河大荔站</td>\n",
       "      <td>1990/6/14</td>\n",
       "      <td>7:00</td>\n",
       "      <td>8:00</td>\n",
       "      <td>1.5</td>\n",
       "    </tr>\n",
       "    <tr>\n",
       "      <th>6</th>\n",
       "      <td>北洛河大荔站</td>\n",
       "      <td>1990/6/14</td>\n",
       "      <td>8:00</td>\n",
       "      <td>9:00</td>\n",
       "      <td>3.6</td>\n",
       "    </tr>\n",
       "    <tr>\n",
       "      <th>7</th>\n",
       "      <td>北洛河大荔站</td>\n",
       "      <td>1990/6/14</td>\n",
       "      <td>9:00</td>\n",
       "      <td>14:00</td>\n",
       "      <td>0.5</td>\n",
       "    </tr>\n",
       "    <tr>\n",
       "      <th>8</th>\n",
       "      <td>北洛河大荔站</td>\n",
       "      <td>1990/6/14</td>\n",
       "      <td>14:00</td>\n",
       "      <td>18:00</td>\n",
       "      <td>0.2</td>\n",
       "    </tr>\n",
       "    <tr>\n",
       "      <th>9</th>\n",
       "      <td>北洛河大荔站</td>\n",
       "      <td>1990/6/17</td>\n",
       "      <td>11:00</td>\n",
       "      <td>14:00</td>\n",
       "      <td>3.4</td>\n",
       "    </tr>\n",
       "    <tr>\n",
       "      <th>10</th>\n",
       "      <td>北洛河大荔站</td>\n",
       "      <td>1990/6/17</td>\n",
       "      <td>14:00</td>\n",
       "      <td>16:00</td>\n",
       "      <td>1.1</td>\n",
       "    </tr>\n",
       "  </tbody>\n",
       "</table>\n",
       "</div>"
      ],
      "text/plain": [
       "        站名      年-月-日      起      止  降雨量（mm)\n",
       "0   北洛河大荔站   1990/6/7   1:00   2:00      0.1\n",
       "1   北洛河大荔站   1990/6/7   2:00   8:00      8.6\n",
       "2   北洛河大荔站   1990/6/7   8:00  11:00      0.6\n",
       "3   北洛河大荔站  1990/6/10  19:00  20:00      0.1\n",
       "4   北洛河大荔站  1990/6/10  20:00   1:00      2.6\n",
       "5   北洛河大荔站  1990/6/14   7:00   8:00      1.5\n",
       "6   北洛河大荔站  1990/6/14   8:00   9:00      3.6\n",
       "7   北洛河大荔站  1990/6/14   9:00  14:00      0.5\n",
       "8   北洛河大荔站  1990/6/14  14:00  18:00      0.2\n",
       "9   北洛河大荔站  1990/6/17  11:00  14:00      3.4\n",
       "10  北洛河大荔站  1990/6/17  14:00  16:00      1.1"
      ]
     },
     "execution_count": 49,
     "metadata": {},
     "output_type": "execute_result"
    }
   ],
   "source": [
    "csv_file = './pre_test.csv'\n",
    "csv_data = pd.read_csv(csv_file)\n",
    "csv_data"
   ]
  },
  {
   "cell_type": "code",
   "execution_count": 51,
   "id": "4ebd8ab1-e1d1-4773-bb9e-dac2db109332",
   "metadata": {
    "tags": []
   },
   "outputs": [
    {
     "data": {
      "text/html": [
       "<div>\n",
       "<style scoped>\n",
       "    .dataframe tbody tr th:only-of-type {\n",
       "        vertical-align: middle;\n",
       "    }\n",
       "\n",
       "    .dataframe tbody tr th {\n",
       "        vertical-align: top;\n",
       "    }\n",
       "\n",
       "    .dataframe thead th {\n",
       "        text-align: right;\n",
       "    }\n",
       "</style>\n",
       "<table border=\"1\" class=\"dataframe\">\n",
       "  <thead>\n",
       "    <tr style=\"text-align: right;\">\n",
       "      <th></th>\n",
       "      <th>站名</th>\n",
       "      <th>年-月-日</th>\n",
       "      <th>起</th>\n",
       "      <th>止</th>\n",
       "      <th>降雨量（mm)</th>\n",
       "      <th>Unnamed: 5</th>\n",
       "      <th>Unnamed: 6</th>\n",
       "      <th>Unnamed: 7</th>\n",
       "      <th>Unnamed: 8</th>\n",
       "      <th>Unnamed: 9</th>\n",
       "      <th>Unnamed: 10</th>\n",
       "      <th>Unnamed: 11</th>\n",
       "      <th>Unnamed: 12</th>\n",
       "      <th>Unnamed: 13</th>\n",
       "      <th>Unnamed: 14</th>\n",
       "    </tr>\n",
       "  </thead>\n",
       "  <tbody>\n",
       "    <tr>\n",
       "      <th>0</th>\n",
       "      <td>北洛河大荔站</td>\n",
       "      <td>1990-06-07</td>\n",
       "      <td>01:00:00</td>\n",
       "      <td>02:00:00</td>\n",
       "      <td>0.1</td>\n",
       "      <td>NaN</td>\n",
       "      <td>NaN</td>\n",
       "      <td>NaN</td>\n",
       "      <td>NaN</td>\n",
       "      <td>NaN</td>\n",
       "      <td>NaN</td>\n",
       "      <td>NaN</td>\n",
       "      <td>NaN</td>\n",
       "      <td>NaN</td>\n",
       "      <td>NaN</td>\n",
       "    </tr>\n",
       "    <tr>\n",
       "      <th>1</th>\n",
       "      <td>北洛河大荔站</td>\n",
       "      <td>1990-06-07</td>\n",
       "      <td>02:00:00</td>\n",
       "      <td>08:00:00</td>\n",
       "      <td>8.6</td>\n",
       "      <td>NaN</td>\n",
       "      <td>NaN</td>\n",
       "      <td>NaN</td>\n",
       "      <td>NaN</td>\n",
       "      <td>NaN</td>\n",
       "      <td>NaN</td>\n",
       "      <td>NaN</td>\n",
       "      <td>NaN</td>\n",
       "      <td>NaN</td>\n",
       "      <td>NaN</td>\n",
       "    </tr>\n",
       "    <tr>\n",
       "      <th>2</th>\n",
       "      <td>北洛河大荔站</td>\n",
       "      <td>1990-06-07</td>\n",
       "      <td>08:00:00</td>\n",
       "      <td>11:00:00</td>\n",
       "      <td>0.6</td>\n",
       "      <td>NaN</td>\n",
       "      <td>NaN</td>\n",
       "      <td>NaN</td>\n",
       "      <td>NaN</td>\n",
       "      <td>NaN</td>\n",
       "      <td>NaN</td>\n",
       "      <td>NaN</td>\n",
       "      <td>NaN</td>\n",
       "      <td>NaN</td>\n",
       "      <td>NaN</td>\n",
       "    </tr>\n",
       "    <tr>\n",
       "      <th>3</th>\n",
       "      <td>北洛河大荔站</td>\n",
       "      <td>1990-06-10</td>\n",
       "      <td>19:00:00</td>\n",
       "      <td>20:00:00</td>\n",
       "      <td>0.1</td>\n",
       "      <td>NaN</td>\n",
       "      <td>NaN</td>\n",
       "      <td>NaN</td>\n",
       "      <td>NaN</td>\n",
       "      <td>NaN</td>\n",
       "      <td>NaN</td>\n",
       "      <td>NaN</td>\n",
       "      <td>NaN</td>\n",
       "      <td>NaN</td>\n",
       "      <td>NaN</td>\n",
       "    </tr>\n",
       "    <tr>\n",
       "      <th>4</th>\n",
       "      <td>北洛河大荔站</td>\n",
       "      <td>1990-06-10</td>\n",
       "      <td>20:00:00</td>\n",
       "      <td>01:00:00</td>\n",
       "      <td>2.6</td>\n",
       "      <td>NaN</td>\n",
       "      <td>NaN</td>\n",
       "      <td>NaN</td>\n",
       "      <td>NaN</td>\n",
       "      <td>NaN</td>\n",
       "      <td>NaN</td>\n",
       "      <td>NaN</td>\n",
       "      <td>NaN</td>\n",
       "      <td>NaN</td>\n",
       "      <td>NaN</td>\n",
       "    </tr>\n",
       "  </tbody>\n",
       "</table>\n",
       "</div>"
      ],
      "text/plain": [
       "       站名      年-月-日         起         止  降雨量（mm)  Unnamed: 5  Unnamed: 6  \\\n",
       "0  北洛河大荔站 1990-06-07  01:00:00  02:00:00      0.1         NaN         NaN   \n",
       "1  北洛河大荔站 1990-06-07  02:00:00  08:00:00      8.6         NaN         NaN   \n",
       "2  北洛河大荔站 1990-06-07  08:00:00  11:00:00      0.6         NaN         NaN   \n",
       "3  北洛河大荔站 1990-06-10  19:00:00  20:00:00      0.1         NaN         NaN   \n",
       "4  北洛河大荔站 1990-06-10  20:00:00  01:00:00      2.6         NaN         NaN   \n",
       "\n",
       "   Unnamed: 7  Unnamed: 8  Unnamed: 9  Unnamed: 10  Unnamed: 11  Unnamed: 12  \\\n",
       "0         NaN         NaN         NaN          NaN          NaN          NaN   \n",
       "1         NaN         NaN         NaN          NaN          NaN          NaN   \n",
       "2         NaN         NaN         NaN          NaN          NaN          NaN   \n",
       "3         NaN         NaN         NaN          NaN          NaN          NaN   \n",
       "4         NaN         NaN         NaN          NaN          NaN          NaN   \n",
       "\n",
       "   Unnamed: 13  Unnamed: 14  \n",
       "0          NaN          NaN  \n",
       "1          NaN          NaN  \n",
       "2          NaN          NaN  \n",
       "3          NaN          NaN  \n",
       "4          NaN          NaN  "
      ]
     },
     "execution_count": 51,
     "metadata": {},
     "output_type": "execute_result"
    }
   ],
   "source": [
    "df = pd.read_excel(\"./pre_test.xlsx\")\n",
    "df.head() "
   ]
  },
  {
   "cell_type": "code",
   "execution_count": 53,
   "id": "3c0435d3-a7c9-44e0-a985-de1382e4ba84",
   "metadata": {
    "tags": []
   },
   "outputs": [
    {
     "data": {
      "text/html": [
       "<div>\n",
       "<style scoped>\n",
       "    .dataframe tbody tr th:only-of-type {\n",
       "        vertical-align: middle;\n",
       "    }\n",
       "\n",
       "    .dataframe tbody tr th {\n",
       "        vertical-align: top;\n",
       "    }\n",
       "\n",
       "    .dataframe thead th {\n",
       "        text-align: right;\n",
       "    }\n",
       "</style>\n",
       "<table border=\"1\" class=\"dataframe\">\n",
       "  <thead>\n",
       "    <tr style=\"text-align: right;\">\n",
       "      <th></th>\n",
       "      <th>站名</th>\n",
       "      <th>年-月-日</th>\n",
       "      <th>降雨量（mm)</th>\n",
       "    </tr>\n",
       "  </thead>\n",
       "  <tbody>\n",
       "    <tr>\n",
       "      <th>0</th>\n",
       "      <td>北洛河大荔站</td>\n",
       "      <td>1990-06-07</td>\n",
       "      <td>0.1</td>\n",
       "    </tr>\n",
       "    <tr>\n",
       "      <th>1</th>\n",
       "      <td>北洛河大荔站</td>\n",
       "      <td>1990-06-07</td>\n",
       "      <td>8.6</td>\n",
       "    </tr>\n",
       "    <tr>\n",
       "      <th>2</th>\n",
       "      <td>北洛河大荔站</td>\n",
       "      <td>1990-06-07</td>\n",
       "      <td>0.6</td>\n",
       "    </tr>\n",
       "    <tr>\n",
       "      <th>3</th>\n",
       "      <td>北洛河大荔站</td>\n",
       "      <td>1990-06-10</td>\n",
       "      <td>0.1</td>\n",
       "    </tr>\n",
       "    <tr>\n",
       "      <th>4</th>\n",
       "      <td>北洛河大荔站</td>\n",
       "      <td>1990-06-10</td>\n",
       "      <td>2.6</td>\n",
       "    </tr>\n",
       "  </tbody>\n",
       "</table>\n",
       "</div>"
      ],
      "text/plain": [
       "       站名      年-月-日  降雨量（mm)\n",
       "0  北洛河大荔站 1990-06-07      0.1\n",
       "1  北洛河大荔站 1990-06-07      8.6\n",
       "2  北洛河大荔站 1990-06-07      0.6\n",
       "3  北洛河大荔站 1990-06-10      0.1\n",
       "4  北洛河大荔站 1990-06-10      2.6"
      ]
     },
     "execution_count": 53,
     "metadata": {},
     "output_type": "execute_result"
    }
   ],
   "source": [
    "cols = [0, 1, 4]\n",
    "students_grades = pd.read_excel('./pre_test.xlsx', usecols=cols)\n",
    "students_grades.head()"
   ]
  },
  {
   "cell_type": "code",
   "execution_count": 54,
   "id": "7aedb5fc-e0d6-4925-badd-45a909540816",
   "metadata": {
    "tags": []
   },
   "outputs": [
    {
     "data": {
      "text/html": [
       "<div>\n",
       "<style scoped>\n",
       "    .dataframe tbody tr th:only-of-type {\n",
       "        vertical-align: middle;\n",
       "    }\n",
       "\n",
       "    .dataframe tbody tr th {\n",
       "        vertical-align: top;\n",
       "    }\n",
       "\n",
       "    .dataframe thead th {\n",
       "        text-align: right;\n",
       "    }\n",
       "</style>\n",
       "<table border=\"1\" class=\"dataframe\">\n",
       "  <thead>\n",
       "    <tr style=\"text-align: right;\">\n",
       "      <th></th>\n",
       "      <th>站名</th>\n",
       "      <th>起</th>\n",
       "      <th>止</th>\n",
       "    </tr>\n",
       "  </thead>\n",
       "  <tbody>\n",
       "    <tr>\n",
       "      <th>0</th>\n",
       "      <td>北洛河大荔站</td>\n",
       "      <td>01:00:00</td>\n",
       "      <td>02:00:00</td>\n",
       "    </tr>\n",
       "    <tr>\n",
       "      <th>1</th>\n",
       "      <td>北洛河大荔站</td>\n",
       "      <td>02:00:00</td>\n",
       "      <td>08:00:00</td>\n",
       "    </tr>\n",
       "    <tr>\n",
       "      <th>2</th>\n",
       "      <td>北洛河大荔站</td>\n",
       "      <td>08:00:00</td>\n",
       "      <td>11:00:00</td>\n",
       "    </tr>\n",
       "    <tr>\n",
       "      <th>3</th>\n",
       "      <td>北洛河大荔站</td>\n",
       "      <td>19:00:00</td>\n",
       "      <td>20:00:00</td>\n",
       "    </tr>\n",
       "    <tr>\n",
       "      <th>4</th>\n",
       "      <td>北洛河大荔站</td>\n",
       "      <td>20:00:00</td>\n",
       "      <td>01:00:00</td>\n",
       "    </tr>\n",
       "  </tbody>\n",
       "</table>\n",
       "</div>"
      ],
      "text/plain": [
       "       站名         起         止\n",
       "0  北洛河大荔站  01:00:00  02:00:00\n",
       "1  北洛河大荔站  02:00:00  08:00:00\n",
       "2  北洛河大荔站  08:00:00  11:00:00\n",
       "3  北洛河大荔站  19:00:00  20:00:00\n",
       "4  北洛河大荔站  20:00:00  01:00:00"
      ]
     },
     "execution_count": 54,
     "metadata": {},
     "output_type": "execute_result"
    }
   ],
   "source": [
    "cols = [0, 2, 3]\n",
    "students_grades = pd.read_excel('./pre_test.xlsx', usecols=cols)\n",
    "students_grades.head()"
   ]
  }
 ],
 "metadata": {
  "kernelspec": {
   "display_name": "Python (tutorial)",
   "language": "python",
   "name": "tutorial"
  },
  "language_info": {
   "codemirror_mode": {
    "name": "ipython",
    "version": 3
   },
   "file_extension": ".py",
   "mimetype": "text/x-python",
   "name": "python",
   "nbconvert_exporter": "python",
   "pygments_lexer": "ipython3",
   "version": "3.9.13"
  }
 },
 "nbformat": 4,
 "nbformat_minor": 5
}
